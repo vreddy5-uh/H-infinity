{
  "nbformat": 4,
  "nbformat_minor": 0,
  "metadata": {
    "colab": {
      "provenance": []
    },
    "kernelspec": {
      "name": "python3",
      "display_name": "Python 3"
    },
    "language_info": {
      "name": "python"
    }
  },
  "cells": [
    {
      "cell_type": "code",
      "execution_count": null,
      "metadata": {
        "id": "l0zsUxDteqhz"
      },
      "outputs": [],
      "source": [
        "#Final fixed to float 64 bit 1 28 35\n",
        "import pandas as pd\n",
        "import numpy as np\n",
        "from google.colab import drive\n",
        "\n",
        "# Mount Google Drive\n",
        "drive.mount('/content/drive')\n",
        "\n",
        "# Define the paths to your input and output files in Google Drive\n",
        "input_file_path = '/content/drive/MyDrive/Colab_Notebooks/EEG_data_Hinf_output_64_1_28_35_fixed.csv'\n",
        "output_file_path = '/content/drive/MyDrive/Colab_Notebooks/EEG_data_Hinf_output_64_1_28_35_float.csv'\n",
        "\n",
        "# Load the input CSV file into a DataFrame without headers\n",
        "df = pd.read_csv(input_file_path, header=None)\n",
        "\n",
        "def fixed_to_float(fixed_val):\n",
        "    # Extract the sign bit\n",
        "    sign = (fixed_val >> 63) & 1\n",
        "    # Extract the integer part\n",
        "    if sign:\n",
        "      x = (fixed_val-1) ^ 0x7FFFFFFFFFFFFFFF\n",
        "    else: x = fixed_val\n",
        "    integer_part = (x >> 35) & 0xFFFFFFF\n",
        "    # Extract the fractional part\n",
        "    fractional_part = x & 0x7FFFFFFFF\n",
        "    # Reconstruct the original number\n",
        "    value = integer_part + (fractional_part / (2 ** 35))\n",
        "\n",
        "    # Apply the sign\n",
        "    if sign == 1:\n",
        "        value = -value\n",
        "    return value\n",
        "\n",
        "# Convert all fixed-point data in the DataFrame to floating-point format\n",
        "float_df = df.applymap(fixed_to_float)\n",
        "\n",
        "# Save the new DataFrame to the output file\n",
        "float_df.to_csv(output_file_path, index=False, header=False)\n",
        "\n",
        "print(f\"Floating point data saved to {output_file_path}\")"
      ]
    },
    {
      "cell_type": "code",
      "source": [
        "#float to fixed 64 bit 1 28 35\n",
        "import pandas as pd\n",
        "import numpy as np\n",
        "from google.colab import drive\n",
        "\n",
        "# Mount Google Drive\n",
        "drive.mount('/content/drive')\n",
        "\n",
        "# Define the paths to your input and output files in Google Drive\n",
        "# Define the paths to your input and output files in Google Drive\n",
        "input_file_path = '/content/drive/MyDrive/Colab_Notebooks/EEG_data_HPF_input_float_from_MATLAB.csv'\n",
        "output_file_path = '/content/drive/MyDrive/Colab_Notebooks/EEG_data_HPF_input_64_bit_fixed.csv'\n",
        "\n",
        "# Load the input CSV file into a DataFrame without headers\n",
        "df = pd.read_csv(input_file_path, header=None)\n",
        "\n",
        "def float_to_fixed(value):\n",
        "    # Clamp the value to the representable range\n",
        "    #value = max(min(value, 255.9999998807907), -256)\n",
        "    # Extract the sign\n",
        "    sign = 0 if value >= 0 else 1\n",
        "    if sign:\n",
        "        value = -value\n",
        "    # Extract and convert integer and fractional parts\n",
        "    integer_part = int(value)\n",
        "    fractional_part = int((value - integer_part) * (2 ** 35))\n",
        "    # Combine parts to create the fixed-point representation\n",
        "    if sign:\n",
        "      x = ((integer_part << 35) | fractional_part) ^ 0x7FFFFFFFFFFFFFFF\n",
        "    else: x = (integer_part << 35) | fractional_part\n",
        "    if sign:\n",
        "      y = ((sign << 63) | x) + 1\n",
        "    else : y = (sign << 63) | x\n",
        "    return y\n",
        "\n",
        "# Convert all floating-point data in the DataFrame to fixed-point format\n",
        "fixed_point_df = df.applymap(float_to_fixed)\n",
        "\n",
        "# Save the new DataFrame to the output file\n",
        "fixed_point_df.to_csv(output_file_path, index=False, header=False)\n",
        "\n",
        "print(f\"Fixed point data saved to {output_file_path}\")"
      ],
      "metadata": {
        "id": "_HUb_8cMe0Je"
      },
      "execution_count": null,
      "outputs": []
    }
  ]
}